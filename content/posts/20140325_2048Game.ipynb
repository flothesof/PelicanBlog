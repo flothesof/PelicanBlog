{
 "metadata": {
  "name": ""
 },
 "nbformat": 3,
 "nbformat_minor": 0,
 "worksheets": [
  {
   "cells": [
    {
     "cell_type": "heading",
     "level": 1,
     "metadata": {},
     "source": [
      "Outline of post"
     ]
    },
    {
     "cell_type": "markdown",
     "metadata": {},
     "source": [
      "Let's try to implement the 2048 game in Python, based on my experience playing it as well as the [sources](). We'll do this with a class, that will have the following methods :\n",
      "\n",
      "- an `__init__` method that will initialize a board with two numbers\n",
      "- a `move` method that will apply a move (up, down, right or left) to the board and randomly add a new number to the board\n",
      "- a `is_game_over` method that determines if the game is finished or not"
     ]
    },
    {
     "cell_type": "code",
     "collapsed": false,
     "input": [
      "import numpy as np\n",
      "from numpy import zeros\n",
      "\n",
      "class board_game_2048():\n",
      "    def __init__(self):\n",
      "        self.board = zeros((4, 4), dtype=np.int)\n",
      "        \n",
      "    def move(self, direction):\n",
      "        pass\n",
      "    \n",
      "    def is_game_over(self):\n",
      "        pass"
     ],
     "language": "python",
     "metadata": {},
     "outputs": [],
     "prompt_number": 1
    },
    {
     "cell_type": "code",
     "collapsed": false,
     "input": [
      "game = board_game_2048()"
     ],
     "language": "python",
     "metadata": {},
     "outputs": [],
     "prompt_number": 2
    },
    {
     "cell_type": "code",
     "collapsed": false,
     "input": [
      "game.board"
     ],
     "language": "python",
     "metadata": {},
     "outputs": [
      {
       "metadata": {},
       "output_type": "pyout",
       "prompt_number": 3,
       "text": [
        "array([[0, 0, 0, 0],\n",
        "       [0, 0, 0, 0],\n",
        "       [0, 0, 0, 0],\n",
        "       [0, 0, 0, 0]])"
       ]
      }
     ],
     "prompt_number": 3
    },
    {
     "cell_type": "heading",
     "level": 1,
     "metadata": {},
     "source": [
      "Randomly filling a cell of the board"
     ]
    },
    {
     "cell_type": "markdown",
     "metadata": {},
     "source": [
      "So far, so good. The first thing I want to do is to fill a cell randomly with a 2 or a 4. The way to do this would be:"
     ]
    },
    {
     "cell_type": "code",
     "collapsed": false,
     "input": [
      "from random import randint, random\n",
      "\n",
      "def fill_cell(board):\n",
      "    i, j = (board == 0).nonzero()\n",
      "    if i.size != 0:\n",
      "        rnd = randint(0, i.size - 1) \n",
      "        board[i[rnd], j[rnd]] = 2 * ((random() > .9) + 1)"
     ],
     "language": "python",
     "metadata": {},
     "outputs": [],
     "prompt_number": 68
    },
    {
     "cell_type": "code",
     "collapsed": false,
     "input": [
      "fill_cell(game.board)\n",
      "game.board"
     ],
     "language": "python",
     "metadata": {},
     "outputs": [
      {
       "metadata": {},
       "output_type": "pyout",
       "prompt_number": 73,
       "text": [
        "array([[2, 0, 2, 0],\n",
        "       [2, 0, 0, 0],\n",
        "       [2, 2, 2, 0],\n",
        "       [2, 0, 0, 0]])"
       ]
      }
     ],
     "prompt_number": 73
    },
    {
     "cell_type": "heading",
     "level": 1,
     "metadata": {},
     "source": [
      "Moving the grid in a given direction"
     ]
    },
    {
     "cell_type": "markdown",
     "metadata": {},
     "source": [
      "Next step would be to address the moving of the tiles. To do this, we'll start by moving just a single column, seen as a 4 vector."
     ]
    },
    {
     "cell_type": "code",
     "collapsed": false,
     "input": [
      "from numpy import array"
     ],
     "language": "python",
     "metadata": {},
     "outputs": [],
     "prompt_number": 8
    },
    {
     "cell_type": "code",
     "collapsed": false,
     "input": [
      "col = array([0, 2, 2, 0])"
     ],
     "language": "python",
     "metadata": {},
     "outputs": [],
     "prompt_number": 9
    },
    {
     "cell_type": "markdown",
     "metadata": {},
     "source": [
      "Put in words the algorithm goes as follows:\n",
      "\n",
      "- we loop on each number in our vector with the positional variable `i`\n",
      "    - if the number is different from zero, we check if we can merge it with the number next to it (if it's not in the last cell)\n",
      "    - we keep track of merged cells in the old vector while building a new vector containing merged numbers and displaced ones\n",
      "    - we keep track of the current spot in the new vector with the help of the variable `j`"
     ]
    },
    {
     "cell_type": "code",
     "collapsed": false,
     "input": [
      "from numpy import zeros"
     ],
     "language": "python",
     "metadata": {},
     "outputs": [],
     "prompt_number": 13
    },
    {
     "cell_type": "code",
     "collapsed": false,
     "input": [
      "def move_col(col):\n",
      "    new_col = zeros((4), dtype=col.dtype)\n",
      "    j = 0\n",
      "    merged = []\n",
      "    for i in range(col.size):\n",
      "        if col[i] != 0: # number different from zero\n",
      "            if i !=3: # check for possible merge except last position\n",
      "                if col[i+1] == col[i] and (i-1) not in merged: # check whether it's mergeable and not already merged\n",
      "                    new_col[j] = 2 * col[i] # create new merged tile\n",
      "                    j += 1\n",
      "                    merged.append(i)\n",
      "                elif (i-1) not in merged: # no merge, just copying value\n",
      "                    new_col[j] = col[i]\n",
      "                    j +=1\n",
      "            elif (i-1) not in merged: # no merge, just copying value down\n",
      "                new_col[j] = col[i]\n",
      "                j +=1\n",
      "    \n",
      "    return new_col"
     ],
     "language": "python",
     "metadata": {},
     "outputs": [],
     "prompt_number": 46
    },
    {
     "cell_type": "code",
     "collapsed": false,
     "input": [
      "print col\n",
      "print move_col(col)"
     ],
     "language": "python",
     "metadata": {},
     "outputs": [
      {
       "output_type": "stream",
       "stream": "stdout",
       "text": [
        "[256 256   2   4]\n",
        "[512   2   4   0]\n"
       ]
      }
     ],
     "prompt_number": 47
    },
    {
     "cell_type": "markdown",
     "metadata": {},
     "source": [
      "In the next cell, we're building a couple of test cases to check that we implemented the right algorithm."
     ]
    },
    {
     "cell_type": "code",
     "collapsed": false,
     "input": [
      "for col in [array([0, 2, 2, 0]),\n",
      "            array([2, 2, 2, 8]),\n",
      "            array([0, 2, 2, 4]),\n",
      "            array([2, 2, 2, 2]),\n",
      "            array([256, 256, 2, 4]),\n",
      "            array([256, 128, 64, 32]),\n",
      "            array([2, 0, 2, 0])]: # the last one doesn't work yet!\n",
      "    print col, '->', move_col(col)"
     ],
     "language": "python",
     "metadata": {},
     "outputs": [
      {
       "output_type": "stream",
       "stream": "stdout",
       "text": [
        "[0 2 2 0] -> [4 0 0 0]\n",
        "[2 2 2 8] -> [4 2 8 0]\n",
        "[0 2 2 4] -> [4 4 0 0]\n",
        "[2 2 2 2] -> [4 4 0 0]\n",
        "[256 256   2   4] -> [512   2   4   0]\n",
        "[256 128  64  32] -> [256 128  64  32]\n",
        "[2 0 2 0] -> [2 2 0 0]\n"
       ]
      }
     ],
     "prompt_number": 80
    },
    {
     "cell_type": "markdown",
     "metadata": {},
     "source": [
      "Since this seems to work like the real game, we can now go on to the main algorithm for moving the board along the four directions. This is done using the basic algorithm outlined previously but taking into account the symmetries of the board: we can address each move by selecting the right 4 vector in the right direction and applying the exact same algorithm that we devised in the previous section."
     ]
    },
    {
     "cell_type": "code",
     "collapsed": false,
     "input": [
      "from numpy import arange\n",
      "\n",
      "def move(board, direction):\n",
      "    # 0: up, 1: right, 2: down, 3: left\n",
      "    \n",
      "    if direction == 3:\n",
      "        cols = [board[i, :] for i in range(4)]\n",
      "    new_cols = [move_col(col) for col in cols]\n",
      "    new_board = array(new_cols)\n",
      "    return new_board\n",
      "        \n",
      "    \n",
      "    "
     ],
     "language": "python",
     "metadata": {},
     "outputs": [],
     "prompt_number": 61
    },
    {
     "cell_type": "code",
     "collapsed": false,
     "input": [
      "print game.board\n",
      "move(game.board, 3)"
     ],
     "language": "python",
     "metadata": {},
     "outputs": [
      {
       "output_type": "stream",
       "stream": "stdout",
       "text": [
        "[[2 0 2 0]\n",
        " [2 0 0 0]\n",
        " [2 2 2 0]\n",
        " [2 0 0 0]]\n"
       ]
      },
      {
       "metadata": {},
       "output_type": "pyout",
       "prompt_number": 78,
       "text": [
        "array([[2, 2, 0, 0],\n",
        "       [2, 0, 0, 0],\n",
        "       [4, 2, 0, 0],\n",
        "       [2, 0, 0, 0]])"
       ]
      }
     ],
     "prompt_number": 78
    },
    {
     "cell_type": "code",
     "collapsed": false,
     "input": [
      "game.board["
     ],
     "language": "python",
     "metadata": {},
     "outputs": [
      {
       "metadata": {},
       "output_type": "pyout",
       "prompt_number": 58,
       "text": [
        "array([[0, 0, 0, 0],\n",
        "       [0, 0, 0, 0],\n",
        "       [2, 0, 0, 0],\n",
        "       [0, 0, 0, 0]])"
       ]
      }
     ],
     "prompt_number": 58
    },
    {
     "cell_type": "code",
     "collapsed": false,
     "input": [],
     "language": "python",
     "metadata": {},
     "outputs": []
    }
   ],
   "metadata": {}
  }
 ]
}